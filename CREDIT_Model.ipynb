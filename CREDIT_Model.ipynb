{
 "cells": [
  {
   "cell_type": "code",
   "execution_count": 2,
   "metadata": {},
   "outputs": [],
   "source": [
    "import pandas as pd\n",
    "import numpy as np\n",
    "import matplotlib.pyplot as plt\n",
    "import seaborn as sns\n",
    "from sklearn.impute import KNNImputer\n",
    "%matplotlib inline"
   ]
  },
  {
   "cell_type": "code",
   "execution_count": 3,
   "metadata": {},
   "outputs": [],
   "source": [
    "##This is to display the numerical values as decimals instead of scientific notations like 5.951188e+08\n",
    "pd.set_option('float_format', '{:f}'.format)"
   ]
  },
  {
   "cell_type": "code",
   "execution_count": 4,
   "metadata": {},
   "outputs": [],
   "source": [
    "data=pd.read_csv('/Ineuron/Ineuron Intership/credit_ver10.csv')"
   ]
  },
  {
   "cell_type": "code",
   "execution_count": 5,
   "metadata": {},
   "outputs": [
    {
     "name": "stdout",
     "output_type": "stream",
     "text": [
      "<class 'pandas.core.frame.DataFrame'>\n",
      "RangeIndex: 110000 entries, 0 to 109999\n",
      "Data columns (total 15 columns):\n",
      " #   Column                        Non-Null Count   Dtype  \n",
      "---  ------                        --------------   -----  \n",
      " 0   Current Loan Amount           110000 non-null  float64\n",
      " 1   Credit Score                  110000 non-null  float64\n",
      " 2   Annual Income                 110000 non-null  float64\n",
      " 3   Years in current job          110000 non-null  float64\n",
      " 4   Monthly Debt                  110000 non-null  float64\n",
      " 5   Years of Credit History       110000 non-null  float64\n",
      " 6   Months since last delinquent  110000 non-null  float64\n",
      " 7   Number of Open Accounts       110000 non-null  float64\n",
      " 8   Number of Credit Problems     110000 non-null  float64\n",
      " 9   Current Credit Balance        110000 non-null  float64\n",
      " 10  Maximum Open Credit           110000 non-null  float64\n",
      " 11  Loan Status                   110000 non-null  float64\n",
      " 12  Term                          110000 non-null  object \n",
      " 13  Home Ownership                110000 non-null  object \n",
      " 14  Purpose                       110000 non-null  object \n",
      "dtypes: float64(12), object(3)\n",
      "memory usage: 12.6+ MB\n"
     ]
    }
   ],
   "source": [
    "data.info()"
   ]
  },
  {
   "cell_type": "markdown",
   "metadata": {},
   "source": [
    "We have observed while exploing data that Number of Credit Problems ,Bankruptcies & Tax Liens are higly correlated (positive) . \n",
    "All show how much bad the financial condition of the customer is currently. We will proceed with 'Number of Credit Problems' and \n",
    "drop other two features or columns. Later we can try adding these features and check if any increment in model performance.\n"
   ]
  },
  {
   "cell_type": "code",
   "execution_count": 6,
   "metadata": {},
   "outputs": [
    {
     "ename": "KeyError",
     "evalue": "\"['Bankruptcies' 'Tax Liens'] not found in axis\"",
     "output_type": "error",
     "traceback": [
      "\u001b[1;31m---------------------------------------------------------------------------\u001b[0m",
      "\u001b[1;31mKeyError\u001b[0m                                  Traceback (most recent call last)",
      "\u001b[1;32m<ipython-input-6-e1b4e08df0d6>\u001b[0m in \u001b[0;36m<module>\u001b[1;34m\u001b[0m\n\u001b[1;32m----> 1\u001b[1;33m \u001b[0mdata\u001b[0m\u001b[1;33m.\u001b[0m\u001b[0mdrop\u001b[0m\u001b[1;33m(\u001b[0m\u001b[1;33m[\u001b[0m\u001b[1;34m'Bankruptcies'\u001b[0m\u001b[1;33m,\u001b[0m\u001b[1;34m'Tax Liens'\u001b[0m\u001b[1;33m]\u001b[0m\u001b[1;33m,\u001b[0m\u001b[0maxis\u001b[0m\u001b[1;33m=\u001b[0m\u001b[1;36m1\u001b[0m\u001b[1;33m,\u001b[0m\u001b[0minplace\u001b[0m\u001b[1;33m=\u001b[0m\u001b[1;32mTrue\u001b[0m\u001b[1;33m)\u001b[0m\u001b[1;33m\u001b[0m\u001b[1;33m\u001b[0m\u001b[0m\n\u001b[0m",
      "\u001b[1;32m~\\anaconda3\\lib\\site-packages\\pandas\\core\\frame.py\u001b[0m in \u001b[0;36mdrop\u001b[1;34m(self, labels, axis, index, columns, level, inplace, errors)\u001b[0m\n\u001b[0;32m   3988\u001b[0m                 \u001b[0mweight\u001b[0m  \u001b[1;36m1.0\u001b[0m     \u001b[1;36m0.8\u001b[0m\u001b[1;33m\u001b[0m\u001b[1;33m\u001b[0m\u001b[0m\n\u001b[0;32m   3989\u001b[0m         \"\"\"\n\u001b[1;32m-> 3990\u001b[1;33m         return super().drop(\n\u001b[0m\u001b[0;32m   3991\u001b[0m             \u001b[0mlabels\u001b[0m\u001b[1;33m=\u001b[0m\u001b[0mlabels\u001b[0m\u001b[1;33m,\u001b[0m\u001b[1;33m\u001b[0m\u001b[1;33m\u001b[0m\u001b[0m\n\u001b[0;32m   3992\u001b[0m             \u001b[0maxis\u001b[0m\u001b[1;33m=\u001b[0m\u001b[0maxis\u001b[0m\u001b[1;33m,\u001b[0m\u001b[1;33m\u001b[0m\u001b[1;33m\u001b[0m\u001b[0m\n",
      "\u001b[1;32m~\\anaconda3\\lib\\site-packages\\pandas\\core\\generic.py\u001b[0m in \u001b[0;36mdrop\u001b[1;34m(self, labels, axis, index, columns, level, inplace, errors)\u001b[0m\n\u001b[0;32m   3934\u001b[0m         \u001b[1;32mfor\u001b[0m \u001b[0maxis\u001b[0m\u001b[1;33m,\u001b[0m \u001b[0mlabels\u001b[0m \u001b[1;32min\u001b[0m \u001b[0maxes\u001b[0m\u001b[1;33m.\u001b[0m\u001b[0mitems\u001b[0m\u001b[1;33m(\u001b[0m\u001b[1;33m)\u001b[0m\u001b[1;33m:\u001b[0m\u001b[1;33m\u001b[0m\u001b[1;33m\u001b[0m\u001b[0m\n\u001b[0;32m   3935\u001b[0m             \u001b[1;32mif\u001b[0m \u001b[0mlabels\u001b[0m \u001b[1;32mis\u001b[0m \u001b[1;32mnot\u001b[0m \u001b[1;32mNone\u001b[0m\u001b[1;33m:\u001b[0m\u001b[1;33m\u001b[0m\u001b[1;33m\u001b[0m\u001b[0m\n\u001b[1;32m-> 3936\u001b[1;33m                 \u001b[0mobj\u001b[0m \u001b[1;33m=\u001b[0m \u001b[0mobj\u001b[0m\u001b[1;33m.\u001b[0m\u001b[0m_drop_axis\u001b[0m\u001b[1;33m(\u001b[0m\u001b[0mlabels\u001b[0m\u001b[1;33m,\u001b[0m \u001b[0maxis\u001b[0m\u001b[1;33m,\u001b[0m \u001b[0mlevel\u001b[0m\u001b[1;33m=\u001b[0m\u001b[0mlevel\u001b[0m\u001b[1;33m,\u001b[0m \u001b[0merrors\u001b[0m\u001b[1;33m=\u001b[0m\u001b[0merrors\u001b[0m\u001b[1;33m)\u001b[0m\u001b[1;33m\u001b[0m\u001b[1;33m\u001b[0m\u001b[0m\n\u001b[0m\u001b[0;32m   3937\u001b[0m \u001b[1;33m\u001b[0m\u001b[0m\n\u001b[0;32m   3938\u001b[0m         \u001b[1;32mif\u001b[0m \u001b[0minplace\u001b[0m\u001b[1;33m:\u001b[0m\u001b[1;33m\u001b[0m\u001b[1;33m\u001b[0m\u001b[0m\n",
      "\u001b[1;32m~\\anaconda3\\lib\\site-packages\\pandas\\core\\generic.py\u001b[0m in \u001b[0;36m_drop_axis\u001b[1;34m(self, labels, axis, level, errors)\u001b[0m\n\u001b[0;32m   3968\u001b[0m                 \u001b[0mnew_axis\u001b[0m \u001b[1;33m=\u001b[0m \u001b[0maxis\u001b[0m\u001b[1;33m.\u001b[0m\u001b[0mdrop\u001b[0m\u001b[1;33m(\u001b[0m\u001b[0mlabels\u001b[0m\u001b[1;33m,\u001b[0m \u001b[0mlevel\u001b[0m\u001b[1;33m=\u001b[0m\u001b[0mlevel\u001b[0m\u001b[1;33m,\u001b[0m \u001b[0merrors\u001b[0m\u001b[1;33m=\u001b[0m\u001b[0merrors\u001b[0m\u001b[1;33m)\u001b[0m\u001b[1;33m\u001b[0m\u001b[1;33m\u001b[0m\u001b[0m\n\u001b[0;32m   3969\u001b[0m             \u001b[1;32melse\u001b[0m\u001b[1;33m:\u001b[0m\u001b[1;33m\u001b[0m\u001b[1;33m\u001b[0m\u001b[0m\n\u001b[1;32m-> 3970\u001b[1;33m                 \u001b[0mnew_axis\u001b[0m \u001b[1;33m=\u001b[0m \u001b[0maxis\u001b[0m\u001b[1;33m.\u001b[0m\u001b[0mdrop\u001b[0m\u001b[1;33m(\u001b[0m\u001b[0mlabels\u001b[0m\u001b[1;33m,\u001b[0m \u001b[0merrors\u001b[0m\u001b[1;33m=\u001b[0m\u001b[0merrors\u001b[0m\u001b[1;33m)\u001b[0m\u001b[1;33m\u001b[0m\u001b[1;33m\u001b[0m\u001b[0m\n\u001b[0m\u001b[0;32m   3971\u001b[0m             \u001b[0mresult\u001b[0m \u001b[1;33m=\u001b[0m \u001b[0mself\u001b[0m\u001b[1;33m.\u001b[0m\u001b[0mreindex\u001b[0m\u001b[1;33m(\u001b[0m\u001b[1;33m**\u001b[0m\u001b[1;33m{\u001b[0m\u001b[0maxis_name\u001b[0m\u001b[1;33m:\u001b[0m \u001b[0mnew_axis\u001b[0m\u001b[1;33m}\u001b[0m\u001b[1;33m)\u001b[0m\u001b[1;33m\u001b[0m\u001b[1;33m\u001b[0m\u001b[0m\n\u001b[0;32m   3972\u001b[0m \u001b[1;33m\u001b[0m\u001b[0m\n",
      "\u001b[1;32m~\\anaconda3\\lib\\site-packages\\pandas\\core\\indexes\\base.py\u001b[0m in \u001b[0;36mdrop\u001b[1;34m(self, labels, errors)\u001b[0m\n\u001b[0;32m   5016\u001b[0m         \u001b[1;32mif\u001b[0m \u001b[0mmask\u001b[0m\u001b[1;33m.\u001b[0m\u001b[0many\u001b[0m\u001b[1;33m(\u001b[0m\u001b[1;33m)\u001b[0m\u001b[1;33m:\u001b[0m\u001b[1;33m\u001b[0m\u001b[1;33m\u001b[0m\u001b[0m\n\u001b[0;32m   5017\u001b[0m             \u001b[1;32mif\u001b[0m \u001b[0merrors\u001b[0m \u001b[1;33m!=\u001b[0m \u001b[1;34m\"ignore\"\u001b[0m\u001b[1;33m:\u001b[0m\u001b[1;33m\u001b[0m\u001b[1;33m\u001b[0m\u001b[0m\n\u001b[1;32m-> 5018\u001b[1;33m                 \u001b[1;32mraise\u001b[0m \u001b[0mKeyError\u001b[0m\u001b[1;33m(\u001b[0m\u001b[1;34mf\"{labels[mask]} not found in axis\"\u001b[0m\u001b[1;33m)\u001b[0m\u001b[1;33m\u001b[0m\u001b[1;33m\u001b[0m\u001b[0m\n\u001b[0m\u001b[0;32m   5019\u001b[0m             \u001b[0mindexer\u001b[0m \u001b[1;33m=\u001b[0m \u001b[0mindexer\u001b[0m\u001b[1;33m[\u001b[0m\u001b[1;33m~\u001b[0m\u001b[0mmask\u001b[0m\u001b[1;33m]\u001b[0m\u001b[1;33m\u001b[0m\u001b[1;33m\u001b[0m\u001b[0m\n\u001b[0;32m   5020\u001b[0m         \u001b[1;32mreturn\u001b[0m \u001b[0mself\u001b[0m\u001b[1;33m.\u001b[0m\u001b[0mdelete\u001b[0m\u001b[1;33m(\u001b[0m\u001b[0mindexer\u001b[0m\u001b[1;33m)\u001b[0m\u001b[1;33m\u001b[0m\u001b[1;33m\u001b[0m\u001b[0m\n",
      "\u001b[1;31mKeyError\u001b[0m: \"['Bankruptcies' 'Tax Liens'] not found in axis\""
     ]
    }
   ],
   "source": [
    "data.drop(['Bankruptcies','Tax Liens'],axis=1,inplace=True)"
   ]
  },
  {
   "cell_type": "code",
   "execution_count": 7,
   "metadata": {},
   "outputs": [
    {
     "name": "stdout",
     "output_type": "stream",
     "text": [
      "<class 'pandas.core.frame.DataFrame'>\n",
      "RangeIndex: 110000 entries, 0 to 109999\n",
      "Data columns (total 15 columns):\n",
      " #   Column                        Non-Null Count   Dtype  \n",
      "---  ------                        --------------   -----  \n",
      " 0   Current Loan Amount           110000 non-null  float64\n",
      " 1   Credit Score                  110000 non-null  float64\n",
      " 2   Annual Income                 110000 non-null  float64\n",
      " 3   Years in current job          110000 non-null  float64\n",
      " 4   Monthly Debt                  110000 non-null  float64\n",
      " 5   Years of Credit History       110000 non-null  float64\n",
      " 6   Months since last delinquent  110000 non-null  float64\n",
      " 7   Number of Open Accounts       110000 non-null  float64\n",
      " 8   Number of Credit Problems     110000 non-null  float64\n",
      " 9   Current Credit Balance        110000 non-null  float64\n",
      " 10  Maximum Open Credit           110000 non-null  float64\n",
      " 11  Loan Status                   110000 non-null  float64\n",
      " 12  Term                          110000 non-null  object \n",
      " 13  Home Ownership                110000 non-null  object \n",
      " 14  Purpose                       110000 non-null  object \n",
      "dtypes: float64(12), object(3)\n",
      "memory usage: 12.6+ MB\n",
      "None\n"
     ]
    }
   ],
   "source": [
    "print(data.info())"
   ]
  },
  {
   "cell_type": "code",
   "execution_count": 8,
   "metadata": {},
   "outputs": [
    {
     "data": {
      "text/html": [
       "<div>\n",
       "<style scoped>\n",
       "    .dataframe tbody tr th:only-of-type {\n",
       "        vertical-align: middle;\n",
       "    }\n",
       "\n",
       "    .dataframe tbody tr th {\n",
       "        vertical-align: top;\n",
       "    }\n",
       "\n",
       "    .dataframe thead th {\n",
       "        text-align: right;\n",
       "    }\n",
       "</style>\n",
       "<table border=\"1\" class=\"dataframe\">\n",
       "  <thead>\n",
       "    <tr style=\"text-align: right;\">\n",
       "      <th></th>\n",
       "      <th>Current Loan Amount</th>\n",
       "      <th>Annual Income</th>\n",
       "      <th>Monthly Debt</th>\n",
       "      <th>Current Credit Balance</th>\n",
       "    </tr>\n",
       "  </thead>\n",
       "  <tbody>\n",
       "    <tr>\n",
       "      <th>count</th>\n",
       "      <td>110000.000000</td>\n",
       "      <td>110000.000000</td>\n",
       "      <td>110000.000000</td>\n",
       "      <td>110000.000000</td>\n",
       "    </tr>\n",
       "    <tr>\n",
       "      <th>mean</th>\n",
       "      <td>312484.539240</td>\n",
       "      <td>1367203.236140</td>\n",
       "      <td>18468.526823</td>\n",
       "      <td>294282.171564</td>\n",
       "    </tr>\n",
       "    <tr>\n",
       "      <th>std</th>\n",
       "      <td>181241.576848</td>\n",
       "      <td>993697.100715</td>\n",
       "      <td>12195.564391</td>\n",
       "      <td>377277.271885</td>\n",
       "    </tr>\n",
       "    <tr>\n",
       "      <th>min</th>\n",
       "      <td>10802.000000</td>\n",
       "      <td>76627.000000</td>\n",
       "      <td>0.000000</td>\n",
       "      <td>0.000000</td>\n",
       "    </tr>\n",
       "    <tr>\n",
       "      <th>25%</th>\n",
       "      <td>175054.000000</td>\n",
       "      <td>868224.000000</td>\n",
       "      <td>10211.930000</td>\n",
       "      <td>112195.000000</td>\n",
       "    </tr>\n",
       "    <tr>\n",
       "      <th>50%</th>\n",
       "      <td>269324.000000</td>\n",
       "      <td>1182003.300000</td>\n",
       "      <td>16202.440000</td>\n",
       "      <td>209665.000000</td>\n",
       "    </tr>\n",
       "    <tr>\n",
       "      <th>75%</th>\n",
       "      <td>430408.000000</td>\n",
       "      <td>1631118.650000</td>\n",
       "      <td>23997.522500</td>\n",
       "      <td>367483.750000</td>\n",
       "    </tr>\n",
       "    <tr>\n",
       "      <th>max</th>\n",
       "      <td>789250.000000</td>\n",
       "      <td>165557393.000000</td>\n",
       "      <td>435843.280000</td>\n",
       "      <td>32878968.000000</td>\n",
       "    </tr>\n",
       "  </tbody>\n",
       "</table>\n",
       "</div>"
      ],
      "text/plain": [
       "       Current Loan Amount    Annual Income  Monthly Debt  \\\n",
       "count        110000.000000    110000.000000 110000.000000   \n",
       "mean         312484.539240   1367203.236140  18468.526823   \n",
       "std          181241.576848    993697.100715  12195.564391   \n",
       "min           10802.000000     76627.000000      0.000000   \n",
       "25%          175054.000000    868224.000000  10211.930000   \n",
       "50%          269324.000000   1182003.300000  16202.440000   \n",
       "75%          430408.000000   1631118.650000  23997.522500   \n",
       "max          789250.000000 165557393.000000 435843.280000   \n",
       "\n",
       "       Current Credit Balance  \n",
       "count           110000.000000  \n",
       "mean            294282.171564  \n",
       "std             377277.271885  \n",
       "min                  0.000000  \n",
       "25%             112195.000000  \n",
       "50%             209665.000000  \n",
       "75%             367483.750000  \n",
       "max           32878968.000000  "
      ]
     },
     "execution_count": 8,
     "metadata": {},
     "output_type": "execute_result"
    }
   ],
   "source": [
    "data[['Current Loan Amount','Annual Income','Monthly Debt','Current Credit Balance']].describe()"
   ]
  },
  {
   "cell_type": "code",
   "execution_count": 10,
   "metadata": {},
   "outputs": [
    {
     "data": {
      "text/plain": [
       "<Figure size 1080x1008 with 0 Axes>"
      ]
     },
     "metadata": {},
     "output_type": "display_data"
    },
    {
     "data": {
      "image/png": "[encoded data removed]",
      "text/plain": [
       "<Figure size 360x360 with 1 Axes>"
      ]
     },
     "metadata": {
      "needs_background": "light"
     },
     "output_type": "display_data"
    }
   ],
   "source": [
    "plt.figure(figsize=(15,14))\n",
    "sns.displot(data['Current Loan Amount'])\n",
    "plt.show()"
   ]
  },
  {
   "cell_type": "code",
   "execution_count": 17,
   "metadata": {},
   "outputs": [
    {
     "data": {
      "text/plain": [
       "12617"
      ]
     },
     "execution_count": 17,
     "metadata": {},
     "output_type": "execute_result"
    }
   ],
   "source": [
    "# Just checking how many values beyond 100000 dollars\n",
    "len(data[data['Current Loan Amount']>1000000.000000])"
   ]
  },
  {
   "cell_type": "code",
   "execution_count": 15,
   "metadata": {},
   "outputs": [
    {
     "data": {
      "text/plain": [
       "12617"
      ]
     },
     "execution_count": 15,
     "metadata": {},
     "output_type": "execute_result"
    }
   ],
   "source": [
    "len(data[data['Current Loan Amount']==99999999.000000])"
   ]
  },
  {
   "cell_type": "markdown",
   "metadata": {},
   "source": [
    "Above shows all values beyond 100000 is entered as 9999999.00000 which looks like an error . We will check the same in boxplot."
   ]
  },
  {
   "cell_type": "code",
   "execution_count": 21,
   "metadata": {},
   "outputs": [
    {
     "name": "stderr",
     "output_type": "stream",
     "text": [
      "c:\\users\\subra\\anaconda3\\envs\\loaneligibility\\lib\\site-packages\\seaborn\\_decorators.py:43: FutureWarning: Pass the following variable as a keyword arg: x. From version 0.12, the only valid positional argument will be `data`, and passing other arguments without an explicit keyword will result in an error or misinterpretation.\n",
      "  FutureWarning\n"
     ]
    },
    {
     "data": {
      "image/png": "[encoded data removed]",
      "text/plain": [
       "<Figure size 1080x360 with 1 Axes>"
      ]
     },
     "metadata": {
      "needs_background": "light"
     },
     "output_type": "display_data"
    }
   ],
   "source": [
    "plt.figure(figsize=(15,5))\n",
    "sns.boxplot(data['Current Loan Amount'])\n",
    "plt.title('Checking Range of Loan Amount')\n",
    "plt.show()"
   ]
  },
  {
   "cell_type": "markdown",
   "metadata": {},
   "source": [
    "Above boxplot shows the same.This can be treated as an outlier.\n",
    "We will handle this by first changing the large values to nan and then using KNNImputer."
   ]
  },
  {
   "cell_type": "code",
   "execution_count": 9,
   "metadata": {},
   "outputs": [],
   "source": [
    "##first Changing 9999999 to 0\n",
    "\n",
    "data.replace({'Current Loan Amount':{99999999.000000:0}},inplace=True)\n"
   ]
  },
  {
   "cell_type": "code",
   "execution_count": 11,
   "metadata": {},
   "outputs": [
    {
     "data": {
      "text/plain": [
       "count   110000.000000\n",
       "mean    312484.539240\n",
       "std     181241.576848\n",
       "min      10802.000000\n",
       "25%     175054.000000\n",
       "50%     269324.000000\n",
       "75%     430408.000000\n",
       "max     789250.000000\n",
       "Name: Current Loan Amount, dtype: float64"
      ]
     },
     "execution_count": 11,
     "metadata": {},
     "output_type": "execute_result"
    }
   ],
   "source": [
    "data['Current Loan Amount'].describe()"
   ]
  },
  {
   "cell_type": "code",
   "execution_count": 12,
   "metadata": {},
   "outputs": [
    {
     "data": {
      "image/png": "[encoded data removed]",
      "text/plain": [
       "<Figure size 720x360 with 1 Axes>"
      ]
     },
     "metadata": {
      "needs_background": "light"
     },
     "output_type": "display_data"
    }
   ],
   "source": [
    "plt.figure(figsize=(10,5))\n",
    "sns.boxplot(data['Current Loan Amount'])\n",
    "plt.title('Checking Range of Loan Amount')\n",
    "plt.show()"
   ]
  },
  {
   "cell_type": "markdown",
   "metadata": {},
   "source": [
    "All extreme values are now converted to zero ."
   ]
  },
  {
   "cell_type": "code",
   "execution_count": 13,
   "metadata": {},
   "outputs": [],
   "source": [
    "##Next will convert them to NAN so that we can impute\n",
    "data['Current Loan Amount'].replace(0,np.nan,inplace=True)"
   ]
  },
  {
   "cell_type": "code",
   "execution_count": 14,
   "metadata": {},
   "outputs": [
    {
     "data": {
      "text/plain": [
       "Current Loan Amount             0\n",
       "Credit Score                    0\n",
       "Annual Income                   0\n",
       "Years in current job            0\n",
       "Monthly Debt                    0\n",
       "Years of Credit History         0\n",
       "Months since last delinquent    0\n",
       "Number of Open Accounts         0\n",
       "Number of Credit Problems       0\n",
       "Current Credit Balance          0\n",
       "Maximum Open Credit             0\n",
       "Loan Status                     0\n",
       "Term                            0\n",
       "Home Ownership                  0\n",
       "Purpose                         0\n",
       "dtype: int64"
      ]
     },
     "execution_count": 14,
     "metadata": {},
     "output_type": "execute_result"
    }
   ],
   "source": [
    "##Checking if  null values are created.\n",
    "data.isnull().sum()"
   ]
  },
  {
   "cell_type": "code",
   "execution_count": 15,
   "metadata": {},
   "outputs": [],
   "source": [
    "##getting the numerical columns together as KNNImputer will need numerical columns.\n",
    "num_cols=data.select_dtypes(include=np.number)"
   ]
  },
  {
   "cell_type": "code",
   "execution_count": 16,
   "metadata": {},
   "outputs": [
    {
     "data": {
      "text/plain": [
       "['Current Loan Amount',\n",
       " 'Credit Score',\n",
       " 'Annual Income',\n",
       " 'Years in current job',\n",
       " 'Monthly Debt',\n",
       " 'Years of Credit History',\n",
       " 'Months since last delinquent',\n",
       " 'Number of Open Accounts',\n",
       " 'Number of Credit Problems',\n",
       " 'Current Credit Balance',\n",
       " 'Maximum Open Credit',\n",
       " 'Loan Status']"
      ]
     },
     "execution_count": 16,
     "metadata": {},
     "output_type": "execute_result"
    }
   ],
   "source": [
    "data.select_dtypes(include=np.number).columns.to_list()"
   ]
  },
  {
   "cell_type": "code",
   "execution_count": 17,
   "metadata": {},
   "outputs": [],
   "source": [
    "impute_knn=KNNImputer()"
   ]
  },
  {
   "cell_type": "code",
   "execution_count": 18,
   "metadata": {},
   "outputs": [],
   "source": [
    "trans=impute_knn.fit_transform(num_cols)"
   ]
  },
  {
   "cell_type": "code",
   "execution_count": 19,
   "metadata": {},
   "outputs": [
    {
     "data": {
      "text/plain": [
       "numpy.ndarray"
      ]
     },
     "execution_count": 19,
     "metadata": {},
     "output_type": "execute_result"
    }
   ],
   "source": [
    "type(trans)"
   ]
  },
  {
   "cell_type": "code",
   "execution_count": 20,
   "metadata": {},
   "outputs": [],
   "source": [
    "imputed_data=pd.DataFrame(trans,columns=['Current Loan Amount',\n",
    " 'Credit Score',\n",
    " 'Annual Income',\n",
    " 'Years in current job',\n",
    " 'Monthly Debt',\n",
    " 'Years of Credit History',\n",
    " 'Months since last delinquent',\n",
    " 'Number of Open Accounts',\n",
    " 'Number of Credit Problems',\n",
    " 'Current Credit Balance',\n",
    " 'Maximum Open Credit',\n",
    " 'Loan Status'])"
   ]
  },
  {
   "cell_type": "code",
   "execution_count": 21,
   "metadata": {},
   "outputs": [
    {
     "data": {
      "text/plain": [
       "Current Loan Amount             0\n",
       "Credit Score                    0\n",
       "Annual Income                   0\n",
       "Years in current job            0\n",
       "Monthly Debt                    0\n",
       "Years of Credit History         0\n",
       "Months since last delinquent    0\n",
       "Number of Open Accounts         0\n",
       "Number of Credit Problems       0\n",
       "Current Credit Balance          0\n",
       "Maximum Open Credit             0\n",
       "Loan Status                     0\n",
       "dtype: int64"
      ]
     },
     "execution_count": 21,
     "metadata": {},
     "output_type": "execute_result"
    }
   ],
   "source": [
    "imputed_data.isnull().sum()"
   ]
  },
  {
   "cell_type": "code",
   "execution_count": 27,
   "metadata": {},
   "outputs": [
    {
     "data": {
      "text/plain": [
       "<matplotlib.axes._subplots.AxesSubplot at 0x1e3340540a0>"
      ]
     },
     "execution_count": 27,
     "metadata": {},
     "output_type": "execute_result"
    },
    {
     "data": {
      "image/png": "[encoded data removed]",
      "text/plain": [
       "<Figure size 1440x1080 with 2 Axes>"
      ]
     },
     "metadata": {
      "needs_background": "light"
     },
     "output_type": "display_data"
    }
   ],
   "source": [
    "plt.figure(figsize=(20,15))\n",
    "sns.heatmap(imputed_data.isnull(), xticklabels=data.columns)"
   ]
  },
  {
   "cell_type": "code",
   "execution_count": 22,
   "metadata": {},
   "outputs": [
    {
     "data": {
      "text/html": [
       "<div>\n",
       "<style scoped>\n",
       "    .dataframe tbody tr th:only-of-type {\n",
       "        vertical-align: middle;\n",
       "    }\n",
       "\n",
       "    .dataframe tbody tr th {\n",
       "        vertical-align: top;\n",
       "    }\n",
       "\n",
       "    .dataframe thead th {\n",
       "        text-align: right;\n",
       "    }\n",
       "</style>\n",
       "<table border=\"1\" class=\"dataframe\">\n",
       "  <thead>\n",
       "    <tr style=\"text-align: right;\">\n",
       "      <th></th>\n",
       "      <th>Current Loan Amount</th>\n",
       "      <th>Credit Score</th>\n",
       "      <th>Annual Income</th>\n",
       "      <th>Years in current job</th>\n",
       "      <th>Monthly Debt</th>\n",
       "      <th>Years of Credit History</th>\n",
       "      <th>Months since last delinquent</th>\n",
       "      <th>Number of Open Accounts</th>\n",
       "      <th>Number of Credit Problems</th>\n",
       "      <th>Current Credit Balance</th>\n",
       "      <th>Maximum Open Credit</th>\n",
       "      <th>Loan Status</th>\n",
       "    </tr>\n",
       "  </thead>\n",
       "  <tbody>\n",
       "    <tr>\n",
       "      <th>count</th>\n",
       "      <td>110000.000000</td>\n",
       "      <td>110000.000000</td>\n",
       "      <td>110000.000000</td>\n",
       "      <td>110000.000000</td>\n",
       "      <td>110000.000000</td>\n",
       "      <td>110000.000000</td>\n",
       "      <td>110000.000000</td>\n",
       "      <td>110000.000000</td>\n",
       "      <td>110000.000000</td>\n",
       "      <td>110000.000000</td>\n",
       "      <td>110000.000000</td>\n",
       "      <td>110000.000000</td>\n",
       "    </tr>\n",
       "    <tr>\n",
       "      <th>mean</th>\n",
       "      <td>312484.539240</td>\n",
       "      <td>716.286718</td>\n",
       "      <td>1367203.236140</td>\n",
       "      <td>6.128938</td>\n",
       "      <td>18468.526823</td>\n",
       "      <td>18.202485</td>\n",
       "      <td>16.359682</td>\n",
       "      <td>11.124491</td>\n",
       "      <td>0.168055</td>\n",
       "      <td>294282.171564</td>\n",
       "      <td>754088.666840</td>\n",
       "      <td>0.773218</td>\n",
       "    </tr>\n",
       "    <tr>\n",
       "      <th>std</th>\n",
       "      <td>181241.576848</td>\n",
       "      <td>26.477465</td>\n",
       "      <td>993697.100715</td>\n",
       "      <td>3.544057</td>\n",
       "      <td>12195.564391</td>\n",
       "      <td>7.015575</td>\n",
       "      <td>23.011923</td>\n",
       "      <td>5.011093</td>\n",
       "      <td>0.484389</td>\n",
       "      <td>377277.271885</td>\n",
       "      <td>8013929.854633</td>\n",
       "      <td>0.418752</td>\n",
       "    </tr>\n",
       "    <tr>\n",
       "      <th>min</th>\n",
       "      <td>10802.000000</td>\n",
       "      <td>585.000000</td>\n",
       "      <td>76627.000000</td>\n",
       "      <td>0.800000</td>\n",
       "      <td>0.000000</td>\n",
       "      <td>3.600000</td>\n",
       "      <td>0.000000</td>\n",
       "      <td>0.000000</td>\n",
       "      <td>0.000000</td>\n",
       "      <td>0.000000</td>\n",
       "      <td>0.000000</td>\n",
       "      <td>0.000000</td>\n",
       "    </tr>\n",
       "    <tr>\n",
       "      <th>25%</th>\n",
       "      <td>175054.000000</td>\n",
       "      <td>704.000000</td>\n",
       "      <td>868224.000000</td>\n",
       "      <td>3.000000</td>\n",
       "      <td>10211.930000</td>\n",
       "      <td>13.500000</td>\n",
       "      <td>0.000000</td>\n",
       "      <td>8.000000</td>\n",
       "      <td>0.000000</td>\n",
       "      <td>112195.000000</td>\n",
       "      <td>273152.000000</td>\n",
       "      <td>1.000000</td>\n",
       "    </tr>\n",
       "    <tr>\n",
       "      <th>50%</th>\n",
       "      <td>269324.000000</td>\n",
       "      <td>721.000000</td>\n",
       "      <td>1182003.300000</td>\n",
       "      <td>6.000000</td>\n",
       "      <td>16202.440000</td>\n",
       "      <td>16.900000</td>\n",
       "      <td>0.000000</td>\n",
       "      <td>10.000000</td>\n",
       "      <td>0.000000</td>\n",
       "      <td>209665.000000</td>\n",
       "      <td>467379.000000</td>\n",
       "      <td>1.000000</td>\n",
       "    </tr>\n",
       "    <tr>\n",
       "      <th>75%</th>\n",
       "      <td>430408.000000</td>\n",
       "      <td>736.400000</td>\n",
       "      <td>1631118.650000</td>\n",
       "      <td>10.000000</td>\n",
       "      <td>23997.522500</td>\n",
       "      <td>21.700000</td>\n",
       "      <td>30.000000</td>\n",
       "      <td>14.000000</td>\n",
       "      <td>0.000000</td>\n",
       "      <td>367483.750000</td>\n",
       "      <td>783183.500000</td>\n",
       "      <td>1.000000</td>\n",
       "    </tr>\n",
       "    <tr>\n",
       "      <th>max</th>\n",
       "      <td>789250.000000</td>\n",
       "      <td>751.000000</td>\n",
       "      <td>165557393.000000</td>\n",
       "      <td>10.000000</td>\n",
       "      <td>435843.280000</td>\n",
       "      <td>70.500000</td>\n",
       "      <td>176.000000</td>\n",
       "      <td>76.000000</td>\n",
       "      <td>15.000000</td>\n",
       "      <td>32878968.000000</td>\n",
       "      <td>1539737892.000000</td>\n",
       "      <td>1.000000</td>\n",
       "    </tr>\n",
       "  </tbody>\n",
       "</table>\n",
       "</div>"
      ],
      "text/plain": [
       "       Current Loan Amount  Credit Score    Annual Income  \\\n",
       "count        110000.000000 110000.000000    110000.000000   \n",
       "mean         312484.539240    716.286718   1367203.236140   \n",
       "std          181241.576848     26.477465    993697.100715   \n",
       "min           10802.000000    585.000000     76627.000000   \n",
       "25%          175054.000000    704.000000    868224.000000   \n",
       "50%          269324.000000    721.000000   1182003.300000   \n",
       "75%          430408.000000    736.400000   1631118.650000   \n",
       "max          789250.000000    751.000000 165557393.000000   \n",
       "\n",
       "       Years in current job  Monthly Debt  Years of Credit History  \\\n",
       "count         110000.000000 110000.000000            110000.000000   \n",
       "mean               6.128938  18468.526823                18.202485   \n",
       "std                3.544057  12195.564391                 7.015575   \n",
       "min                0.800000      0.000000                 3.600000   \n",
       "25%                3.000000  10211.930000                13.500000   \n",
       "50%                6.000000  16202.440000                16.900000   \n",
       "75%               10.000000  23997.522500                21.700000   \n",
       "max               10.000000 435843.280000                70.500000   \n",
       "\n",
       "       Months since last delinquent  Number of Open Accounts  \\\n",
       "count                 110000.000000            110000.000000   \n",
       "mean                      16.359682                11.124491   \n",
       "std                       23.011923                 5.011093   \n",
       "min                        0.000000                 0.000000   \n",
       "25%                        0.000000                 8.000000   \n",
       "50%                        0.000000                10.000000   \n",
       "75%                       30.000000                14.000000   \n",
       "max                      176.000000                76.000000   \n",
       "\n",
       "       Number of Credit Problems  Current Credit Balance  Maximum Open Credit  \\\n",
       "count              110000.000000           110000.000000        110000.000000   \n",
       "mean                    0.168055           294282.171564        754088.666840   \n",
       "std                     0.484389           377277.271885       8013929.854633   \n",
       "min                     0.000000                0.000000             0.000000   \n",
       "25%                     0.000000           112195.000000        273152.000000   \n",
       "50%                     0.000000           209665.000000        467379.000000   \n",
       "75%                     0.000000           367483.750000        783183.500000   \n",
       "max                    15.000000         32878968.000000    1539737892.000000   \n",
       "\n",
       "        Loan Status  \n",
       "count 110000.000000  \n",
       "mean       0.773218  \n",
       "std        0.418752  \n",
       "min        0.000000  \n",
       "25%        1.000000  \n",
       "50%        1.000000  \n",
       "75%        1.000000  \n",
       "max        1.000000  "
      ]
     },
     "execution_count": 22,
     "metadata": {},
     "output_type": "execute_result"
    }
   ],
   "source": [
    "imputed_data.describe()"
   ]
  },
  {
   "cell_type": "code",
   "execution_count": 23,
   "metadata": {},
   "outputs": [
    {
     "data": {
      "image/png": "[encoded data removed]",
      "text/plain": [
       "<Figure size 720x360 with 1 Axes>"
      ]
     },
     "metadata": {
      "needs_background": "light"
     },
     "output_type": "display_data"
    }
   ],
   "source": [
    "plt.figure(figsize=(10,5))\n",
    "sns.boxplot(imputed_data['Current Loan Amount'])\n",
    "plt.title('Checking Range of Loan Amount')\n",
    "plt.show()"
   ]
  },
  {
   "cell_type": "code",
   "execution_count": null,
   "metadata": {},
   "outputs": [],
   "source": []
  },
  {
   "cell_type": "code",
   "execution_count": 39,
   "metadata": {},
   "outputs": [],
   "source": [
    "##Before concating dataset we will check for one categorical feature before encoding\n",
    "\n",
    "cat_cols=data.select_dtypes(exclude=np.number)"
   ]
  },
  {
   "cell_type": "code",
   "execution_count": 40,
   "metadata": {},
   "outputs": [
    {
     "data": {
      "text/plain": [
       "['Term', 'Home Ownership', 'Purpose']"
      ]
     },
     "execution_count": 40,
     "metadata": {},
     "output_type": "execute_result"
    }
   ],
   "source": [
    "data.select_dtypes(exclude=np.number).columns.to_list()"
   ]
  },
  {
   "cell_type": "code",
   "execution_count": 42,
   "metadata": {},
   "outputs": [
    {
     "data": {
      "text/plain": [
       "14"
      ]
     },
     "execution_count": 42,
     "metadata": {},
     "output_type": "execute_result"
    }
   ],
   "source": [
    "len(data['Purpose'].unique())"
   ]
  },
  {
   "cell_type": "code",
   "execution_count": 43,
   "metadata": {},
   "outputs": [
    {
     "data": {
      "text/plain": [
       "array(['Home Improvements', 'Debt Consolidation', 'Buy House', 'Other',\n",
       "       'Business Loan', 'Buy a Car', 'major_purchase', 'vacation',\n",
       "       'small_business', 'Medical Bills', 'wedding',\n",
       "       'Educational Expenses', 'moving', 'renewable_energy'], dtype=object)"
      ]
     },
     "execution_count": 43,
     "metadata": {},
     "output_type": "execute_result"
    }
   ],
   "source": [
    "data['Purpose'].unique()"
   ]
  },
  {
   "cell_type": "markdown",
   "metadata": {},
   "source": [
    "Looks like all are Unique . We will go ahead with encoding this features.\n",
    "Later on we can see if further modification can be done on this categorical feature."
   ]
  },
  {
   "cell_type": "code",
   "execution_count": 15,
   "metadata": {},
   "outputs": [
    {
     "ename": "NameError",
     "evalue": "name 'imputed_data' is not defined",
     "output_type": "error",
     "traceback": [
      "\u001b[1;31m---------------------------------------------------------------------------\u001b[0m",
      "\u001b[1;31mNameError\u001b[0m                                 Traceback (most recent call last)",
      "\u001b[1;32m<ipython-input-15-fa69c7fe15bd>\u001b[0m in \u001b[0;36m<module>\u001b[1;34m\u001b[0m\n\u001b[1;32m----> 1\u001b[1;33m \u001b[0mnew_data\u001b[0m\u001b[1;33m=\u001b[0m\u001b[0mpd\u001b[0m\u001b[1;33m.\u001b[0m\u001b[0mconcat\u001b[0m\u001b[1;33m(\u001b[0m\u001b[1;33m[\u001b[0m\u001b[0mimputed_data\u001b[0m\u001b[1;33m,\u001b[0m\u001b[0mdata\u001b[0m\u001b[1;33m[\u001b[0m\u001b[0mdata\u001b[0m\u001b[1;33m.\u001b[0m\u001b[0mselect_dtypes\u001b[0m\u001b[1;33m(\u001b[0m\u001b[0mexclude\u001b[0m\u001b[1;33m=\u001b[0m\u001b[0mnp\u001b[0m\u001b[1;33m.\u001b[0m\u001b[0mnumber\u001b[0m\u001b[1;33m)\u001b[0m\u001b[1;33m.\u001b[0m\u001b[0mcolumns\u001b[0m\u001b[1;33m.\u001b[0m\u001b[0mto_list\u001b[0m\u001b[1;33m(\u001b[0m\u001b[1;33m)\u001b[0m\u001b[1;33m]\u001b[0m\u001b[1;33m]\u001b[0m\u001b[1;33m,\u001b[0m\u001b[0maxis\u001b[0m\u001b[1;33m=\u001b[0m\u001b[1;36m1\u001b[0m\u001b[1;33m)\u001b[0m\u001b[1;33m\u001b[0m\u001b[1;33m\u001b[0m\u001b[0m\n\u001b[0m",
      "\u001b[1;31mNameError\u001b[0m: name 'imputed_data' is not defined"
     ]
    }
   ],
   "source": [
    "new_data=pd.concat([imputed_data,data[data.select_dtypes(exclude=np.number).columns.to_list()]],axis=1)"
   ]
  },
  {
   "cell_type": "code",
   "execution_count": 45,
   "metadata": {},
   "outputs": [
    {
     "name": "stdout",
     "output_type": "stream",
     "text": [
      "<class 'pandas.core.frame.DataFrame'>\n",
      "RangeIndex: 110000 entries, 0 to 109999\n",
      "Data columns (total 15 columns):\n",
      " #   Column                        Non-Null Count   Dtype  \n",
      "---  ------                        --------------   -----  \n",
      " 0   Current Loan Amount           110000 non-null  float64\n",
      " 1   Credit Score                  110000 non-null  float64\n",
      " 2   Annual Income                 110000 non-null  float64\n",
      " 3   Years in current job          110000 non-null  float64\n",
      " 4   Monthly Debt                  110000 non-null  float64\n",
      " 5   Years of Credit History       110000 non-null  float64\n",
      " 6   Months since last delinquent  110000 non-null  float64\n",
      " 7   Number of Open Accounts       110000 non-null  float64\n",
      " 8   Number of Credit Problems     110000 non-null  float64\n",
      " 9   Current Credit Balance        110000 non-null  float64\n",
      " 10  Maximum Open Credit           110000 non-null  float64\n",
      " 11  Loan Status                   110000 non-null  float64\n",
      " 12  Term                          110000 non-null  object \n",
      " 13  Home Ownership                110000 non-null  object \n",
      " 14  Purpose                       110000 non-null  object \n",
      "dtypes: float64(12), object(3)\n",
      "memory usage: 12.6+ MB\n"
     ]
    }
   ],
   "source": [
    "new_data.info()"
   ]
  },
  {
   "cell_type": "code",
   "execution_count": 46,
   "metadata": {},
   "outputs": [],
   "source": [
    "##saving the current file.\n",
    "new_data.to_csv('D:\\\\iNeuron\\\\intership_2\\\\credit_ver10.csv',index=False)"
   ]
  },
  {
   "cell_type": "code",
   "execution_count": null,
   "metadata": {},
   "outputs": [],
   "source": []
  }
 ],
 "metadata": {
  "kernelspec": {
   "display_name": "Python 3",
   "language": "python",
   "name": "python3"
  },
  "language_info": {
   "codemirror_mode": {
    "name": "ipython",
    "version": 3
   },
   "file_extension": ".py",
   "mimetype": "text/x-python",
   "name": "python",
   "nbconvert_exporter": "python",
   "pygments_lexer": "ipython3",
   "version": "3.8.3"
  }
 },
 "nbformat": 4,
 "nbformat_minor": 4
}
